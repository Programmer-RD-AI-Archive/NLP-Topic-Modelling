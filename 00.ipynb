{
 "cells": [
  {
   "cell_type": "code",
   "execution_count": 1,
   "id": "47059414-b153-409e-bb22-d20bc8efd143",
   "metadata": {},
   "outputs": [],
   "source": [
    "import nltk\n",
    "from nltk.stem.porter import *\n",
    "from torch.nn import *\n",
    "from torch.optim import *\n",
    "import numpy as np\n",
    "import pandas as pd\n",
    "import torch,torchvision\n",
    "import random\n",
    "from tqdm import *\n",
    "from torch.utils.data import Dataset,DataLoader\n",
    "stemmer = PorterStemmer()"
   ]
  },
  {
   "cell_type": "code",
   "execution_count": 2,
   "id": "c4e5a331-3f93-4dd3-a61c-09976d1ef498",
   "metadata": {},
   "outputs": [],
   "source": [
    "def tokenize(sentence):\n",
    "    return nltk.word_tokenize(sentence.lower())"
   ]
  },
  {
   "cell_type": "code",
   "execution_count": 3,
   "id": "e57c49b4-c6c8-45f7-953c-7da75fd0bba4",
   "metadata": {},
   "outputs": [
    {
     "data": {
      "text/plain": [
       "['hi', 'how', '$', '1000']"
      ]
     },
     "execution_count": 3,
     "metadata": {},
     "output_type": "execute_result"
    }
   ],
   "source": [
    "tokenize('hi how $1000')"
   ]
  },
  {
   "cell_type": "code",
   "execution_count": 4,
   "id": "44b2f024-b6e8-4aa6-971b-d7a4a61015ef",
   "metadata": {},
   "outputs": [],
   "source": [
    "def stem(word):\n",
    "    return stemmer.stem(word.lower())"
   ]
  },
  {
   "cell_type": "code",
   "execution_count": 5,
   "id": "1191aeae-83f6-4b12-9023-00a62120cd91",
   "metadata": {},
   "outputs": [
    {
     "data": {
      "text/plain": [
       "'organ'"
      ]
     },
     "execution_count": 5,
     "metadata": {},
     "output_type": "execute_result"
    }
   ],
   "source": [
    "stem('organic')"
   ]
  },
  {
   "cell_type": "code",
   "execution_count": 6,
   "id": "5da8b1a0-8873-44fd-84fb-0f3e630a9b63",
   "metadata": {},
   "outputs": [],
   "source": [
    "def bag_of_words(tokenized_words,all_words):\n",
    "    tokenized_words = [stem(w) for w in tokenized_words]\n",
    "    bag = np.zeros(len(all_words))\n",
    "    for idx,w in enumerate(all_words):\n",
    "        if w in tokenized_words:\n",
    "            bag[idx] = 1.0\n",
    "    return bag"
   ]
  },
  {
   "cell_type": "code",
   "execution_count": 7,
   "id": "bae1ce46-630f-4a6e-91db-6670ba34c42d",
   "metadata": {},
   "outputs": [
    {
     "data": {
      "text/plain": [
       "array([1., 0.])"
      ]
     },
     "execution_count": 7,
     "metadata": {},
     "output_type": "execute_result"
    }
   ],
   "source": [
    "bag_of_words(['hi'],['hi','how'])"
   ]
  },
  {
   "cell_type": "code",
   "execution_count": 8,
   "id": "c15e3b8c-00c4-4a89-8137-853722751a84",
   "metadata": {},
   "outputs": [],
   "source": [
    "data = pd.read_csv('./cleaned-data.csv')"
   ]
  },
  {
   "cell_type": "code",
   "execution_count": 9,
   "id": "3631c577-1d8a-4f3d-aad3-49d2ea2e01c8",
   "metadata": {},
   "outputs": [],
   "source": [
    "data = data[['Text','Score']]"
   ]
  },
  {
   "cell_type": "code",
   "execution_count": 10,
   "id": "492b840d-7669-47e2-8003-d131609287cc",
   "metadata": {},
   "outputs": [],
   "source": [
    "# data.to_csv('./cleaned-data.csv',index=False)"
   ]
  },
  {
   "cell_type": "code",
   "execution_count": 11,
   "id": "1240f427-839c-407c-a396-16df092a5226",
   "metadata": {},
   "outputs": [],
   "source": [
    "X = data['Text']\n",
    "y = data['Score']"
   ]
  },
  {
   "cell_type": "code",
   "execution_count": 12,
   "id": "048e5cc9-d617-405d-ace6-012a45a4f695",
   "metadata": {},
   "outputs": [],
   "source": [
    "all_words = []\n",
    "all_data = []\n",
    "tags = []"
   ]
  },
  {
   "cell_type": "code",
   "execution_count": null,
   "id": "3f864658-4bab-4b9a-aeed-efb611b7e8ef",
   "metadata": {},
   "outputs": [
    {
     "name": "stderr",
     "output_type": "stream",
     "text": [
      "1469it [00:01, 813.98it/s]"
     ]
    }
   ],
   "source": [
    "for X_batch,y_batch in tqdm(zip(X,y)):\n",
    "    X_batch = tokenize(X_batch)\n",
    "    new_X = []\n",
    "    for Xb in X_batch:\n",
    "        new_X.append(stem(Xb))\n",
    "    all_words.extend(new_X)\n",
    "    all_data.append([new_X,y_batch])\n",
    "    tags.append(y_batch)"
   ]
  },
  {
   "cell_type": "code",
   "execution_count": null,
   "id": "ee606cbd-3b5d-4f4d-998a-0779c2fc20c0",
   "metadata": {},
   "outputs": [],
   "source": [
    "np.random.shuffle(all_words)"
   ]
  },
  {
   "cell_type": "code",
   "execution_count": null,
   "id": "164e6438-124e-4788-817b-6f15490655ba",
   "metadata": {},
   "outputs": [],
   "source": [
    "np.random.shuffle(all_data)"
   ]
  },
  {
   "cell_type": "code",
   "execution_count": null,
   "id": "65bd1d15-dc87-4a91-902b-106a61d07a83",
   "metadata": {},
   "outputs": [],
   "source": [
    "all_words = sorted(set(all_words))\n",
    "tags = sorted(set(tags))"
   ]
  },
  {
   "cell_type": "code",
   "execution_count": null,
   "id": "ed2e1e86-deb1-4412-9aae-c171cb7ca556",
   "metadata": {},
   "outputs": [],
   "source": [
    "np.random.shuffle(all_words)"
   ]
  },
  {
   "cell_type": "code",
   "execution_count": null,
   "id": "ee4634fb-5386-4bff-b6e2-cfc1dbf0601e",
   "metadata": {},
   "outputs": [],
   "source": [
    "np.random.shuffle(all_data)"
   ]
  },
  {
   "cell_type": "code",
   "execution_count": null,
   "id": "faec4a3a-1fa7-4ecf-9778-0c9d4a27cd95",
   "metadata": {},
   "outputs": [],
   "source": [
    "X = []\n",
    "y = []"
   ]
  },
  {
   "cell_type": "code",
   "execution_count": null,
   "id": "5da7b861-a9b9-40ec-a6e0-e056efbd95af",
   "metadata": {},
   "outputs": [],
   "source": [
    "len(tags)"
   ]
  },
  {
   "cell_type": "code",
   "execution_count": null,
   "id": "8ed0b117-5d9e-425f-a9cb-762068c0ace3",
   "metadata": {},
   "outputs": [],
   "source": [
    "np.eye(4,5)[3]"
   ]
  },
  {
   "cell_type": "code",
   "execution_count": null,
   "id": "29f0ae2f-1f7b-4744-bd22-73268a027360",
   "metadata": {},
   "outputs": [],
   "source": [
    "# np.eye(tags.index(tag),len(tags))"
   ]
  },
  {
   "cell_type": "code",
   "execution_count": null,
   "id": "935c4a13-f3fe-4ed3-947e-8aeffb48a442",
   "metadata": {},
   "outputs": [],
   "source": [
    "for sentence,tag in tqdm(all_data):\n",
    "    X.append(bag_of_words(sentence,all_words))\n",
    "    y.append(np.eye(tags.index(tag)+1,len(tags))[tags.index(tag)-1])"
   ]
  },
  {
   "cell_type": "code",
   "execution_count": null,
   "id": "b003ab37-e40c-433d-b5d6-9f490d464717",
   "metadata": {},
   "outputs": [],
   "source": [
    "X[0]"
   ]
  },
  {
   "cell_type": "code",
   "execution_count": null,
   "id": "eaa05b74-beb0-4fbe-bd4d-87221e444b2c",
   "metadata": {},
   "outputs": [],
   "source": [
    "y[0]"
   ]
  },
  {
   "cell_type": "code",
   "execution_count": null,
   "id": "513528c8-e767-4257-a222-f6cf69f1cb6d",
   "metadata": {},
   "outputs": [],
   "source": [
    "np.eye(tags.index(tag)+1,len(tags))[tags.index(tag)-1]"
   ]
  },
  {
   "cell_type": "code",
   "execution_count": null,
   "id": "6ff4bc0c-1ef8-41bf-9a2e-6e7c9b1af5de",
   "metadata": {},
   "outputs": [],
   "source": [
    "tags.index(tag)"
   ]
  },
  {
   "cell_type": "code",
   "execution_count": null,
   "id": "2775dc67-7994-4887-a6e3-6aaedfca5298",
   "metadata": {},
   "outputs": [],
   "source": [
    "tags"
   ]
  },
  {
   "cell_type": "code",
   "execution_count": null,
   "id": "5f3a6a52-4601-4ee6-8875-4dac4fdfe7c6",
   "metadata": {},
   "outputs": [],
   "source": [
    "from sklearn.model_selection import *"
   ]
  },
  {
   "cell_type": "code",
   "execution_count": null,
   "id": "f99ebde3-81c8-4855-9fa6-184ea278e631",
   "metadata": {},
   "outputs": [],
   "source": [
    "X_train,X_test,y_train,y_test = train_test_split(X,y,test_size=0.25)"
   ]
  },
  {
   "cell_type": "code",
   "execution_count": null,
   "id": "61038d74-dd75-4173-b446-6008fe4b1104",
   "metadata": {},
   "outputs": [],
   "source": [
    "device = 'cuda'"
   ]
  },
  {
   "cell_type": "code",
   "execution_count": null,
   "id": "1bf99b75-33e8-4b7a-b000-7ffc3277a921",
   "metadata": {},
   "outputs": [],
   "source": [
    "X_train = torch.from_numpy(np.array(X_train)).to(device).float()\n",
    "y_train = torch.from_numpy(np.array(y_train)).to(device).to(device).float()\n",
    "X_test = torch.from_numpy(np.array(X_test)).to(device).to(device).float()\n",
    "y_test = torch.from_numpy(np.array(y_test)).to(device).to(device).float()"
   ]
  },
  {
   "cell_type": "code",
   "execution_count": null,
   "id": "896081c4-9292-4506-965b-516e66215bf1",
   "metadata": {},
   "outputs": [],
   "source": [
    "def get_loss(model,X,y,criterion):\n",
    "    preds = model(X)\n",
    "    loss = criterion(preds,y)\n",
    "    return loss.item()"
   ]
  },
  {
   "cell_type": "code",
   "execution_count": null,
   "id": "e45bb9b3-1989-4773-8824-b9884596910e",
   "metadata": {},
   "outputs": [],
   "source": [
    "def get_accuracy(model,X,y):\n",
    "    total = 0\n",
    "    correct = 0\n",
    "    preds = model(X)\n",
    "    for pred,y_batch in zip(preds,y):\n",
    "        pred = int(torch.argmax(pred))\n",
    "        y_batch = int(torch.argmax(y_batch))\n",
    "        if pred == y_batch:\n",
    "            correct += 1\n",
    "        total += 1\n",
    "    acc = round(correct/total,3)*100\n",
    "    return acc"
   ]
  },
  {
   "cell_type": "code",
   "execution_count": null,
   "id": "df1817cf-4f9c-4496-b6fe-5adef9ec1729",
   "metadata": {},
   "outputs": [],
   "source": [
    "class Model(Module):\n",
    "    def __init__(self):\n",
    "        super().__init__()\n",
    "        self.iters = 12\n",
    "        self.activation = ReLU()\n",
    "        self.linear1 = Linear(len(all_words),512)\n",
    "        self.linaer2 = Linear(512,512)\n",
    "        self.bc = BatchNorm1d(512)\n",
    "        self.output = Linear(512,len(tags))\n",
    "    \n",
    "    def forward(self,X):\n",
    "        preds = self.activation(self.linear1(X))\n",
    "        for _ in range(self.iters):\n",
    "            preds = self.activation(self.bc(self.linaer2(preds)))\n",
    "        preds = self.output(preds)\n",
    "        return preds"
   ]
  },
  {
   "cell_type": "code",
   "execution_count": null,
   "id": "d99ee499-f793-42f0-9e31-7635119d4889",
   "metadata": {},
   "outputs": [],
   "source": [
    "device = 'cuda'"
   ]
  },
  {
   "cell_type": "code",
   "execution_count": null,
   "id": "090dbf6b-9262-456f-b963-3805cc6c7fb9",
   "metadata": {},
   "outputs": [],
   "source": [
    "model = Model().to(device)\n",
    "criterion = MSELoss()\n",
    "optimizer = Adam(model.parameters(),lr=0.001)\n",
    "batch_size = 32\n",
    "epochs = 100"
   ]
  },
  {
   "cell_type": "code",
   "execution_count": null,
   "id": "1298e1ec-63a9-4372-82a2-8d4e9f9cca37",
   "metadata": {},
   "outputs": [],
   "source": [
    "PROJECT_NAME = 'NLP-Topic-Modelling'"
   ]
  },
  {
   "cell_type": "code",
   "execution_count": null,
   "id": "a41a5dad-04ea-46fd-894d-a7633e329d9d",
   "metadata": {},
   "outputs": [],
   "source": [
    "import wandb"
   ]
  },
  {
   "cell_type": "code",
   "execution_count": null,
   "id": "5fa9715c-1beb-49d0-9154-6c1454216a51",
   "metadata": {},
   "outputs": [],
   "source": [
    "# wandb.init(project=PROJECT_NAME,name='baseline')\n",
    "# for _ in tqdm(range(epochs)):\n",
    "#     for idx in range(0,len(X_train),batch_size):\n",
    "#         X_batch = X_train[idx:idx+batch_size].to(device).float()\n",
    "#         y_batch = y_train[idx:idx+batch_size].to(device).float()\n",
    "#         preds = model(X_batch)\n",
    "#         loss = criterion(preds,y_batch)\n",
    "#         optimizer.zero_grad()\n",
    "#         loss.backward()\n",
    "#         optimizer.step()\n",
    "#     torch.cuda.empty_cache()\n",
    "#     wandb.log({'Loss':(get_loss(model,X_train,y_train,criterion)+get_loss(model,X_batch,y_batch,criterion)/2)})\n",
    "#     wandb.log({'Val Loss':get_loss(model,X_test,y_test,criterion)})\n",
    "#     wandb.log({'Acc':(get_accuracy(model,X_train,y_train)+get_accuracy(model,X_batch,y_batch))/2})\n",
    "#     wandb.log({'Val Acc':get_accuracy(model,X_test,y_test)})\n",
    "# wandb.finish()"
   ]
  },
  {
   "cell_type": "code",
   "execution_count": null,
   "id": "f8719e9e-d64b-4ef5-93a1-aa392bbe931b",
   "metadata": {},
   "outputs": [],
   "source": [
    "torch.save(model,'model.pt')\n",
    "torch.save(model,'model.pth')"
   ]
  },
  {
   "cell_type": "code",
   "execution_count": null,
   "id": "d1ae95ae-2987-44ac-b7db-5cd440265538",
   "metadata": {},
   "outputs": [],
   "source": [
    "torch.save(model.state_dict(),'model-sd.pt')\n",
    "torch.save(model.state_dict(),'model-sd.pth')"
   ]
  },
  {
   "cell_type": "code",
   "execution_count": null,
   "id": "f0b4ac80-920e-440a-be8d-1dee44608230",
   "metadata": {},
   "outputs": [],
   "source": []
  }
 ],
 "metadata": {
  "kernelspec": {
   "display_name": "Python 3.7.3 64-bit ('base': conda)",
   "language": "python",
   "name": "python373jvsc74a57bd0210f9608a45c0278a93c9e0b10db32a427986ab48cfc0d20c139811eb78c4bbc"
  },
  "language_info": {
   "codemirror_mode": {
    "name": "ipython",
    "version": 3
   },
   "file_extension": ".py",
   "mimetype": "text/x-python",
   "name": "python",
   "nbconvert_exporter": "python",
   "pygments_lexer": "ipython3",
   "version": "3.7.11"
  }
 },
 "nbformat": 4,
 "nbformat_minor": 5
}
